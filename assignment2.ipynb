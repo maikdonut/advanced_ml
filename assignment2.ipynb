{
 "cells": [
  {
   "cell_type": "code",
   "execution_count": 1,
   "id": "ca6ab228",
   "metadata": {},
   "outputs": [],
   "source": [
    "import pandas as pd\n",
    "import numpy as np\n",
    "import pickle\n",
    "\n",
    "from sklearn.linear_model import LogisticRegression\n",
    "from sklearn.preprocessing import OneHotEncoder\n",
    "from scipy.stats import kendalltau, spearmanr"
   ]
  },
  {
   "cell_type": "markdown",
   "id": "9278d1b4",
   "metadata": {},
   "source": [
    "#### 1\n",
    "Прочитайте и проанализируйте данные, выберите турниры, в которых есть данные о составах команд и повопросных результатах (поле mask в results.pkl).  \n",
    "Для унификации предлагаю:\n",
    "- взять в тренировочный набор турниры с dateStart из 2019 года; \n",
    "- в тестовый — турниры с dateStart из 2020 года."
   ]
  },
  {
   "cell_type": "code",
   "execution_count": 2,
   "id": "64db69b6",
   "metadata": {},
   "outputs": [],
   "source": [
    "tournaments = pickle.load(open('tournaments.pkl', 'rb'))\n",
    "players = pickle.load(open('players.pkl', 'rb'))\n",
    "results = pickle.load(open('results.pkl', 'rb'))"
   ]
  },
  {
   "cell_type": "code",
   "execution_count": 3,
   "id": "9d326cb1",
   "metadata": {},
   "outputs": [],
   "source": [
    "df_tournaments = pd.DataFrame(tournaments.values()).set_index(\"id\")\n",
    "df_players = pd.DataFrame(players.values()).set_index(\"id\")\n",
    "\n",
    "df_tournaments[\"year\"] = df_tournaments[\"dateStart\"].apply(lambda x: int(x[:4]))"
   ]
  },
  {
   "cell_type": "code",
   "execution_count": 4,
   "id": "81a76c8f",
   "metadata": {},
   "outputs": [],
   "source": [
    "train_tournaments = df_tournaments[df_tournaments[\"year\"] == 2019]\n",
    "test_tournaments = df_tournaments[df_tournaments[\"year\"] == 2020]"
   ]
  },
  {
   "cell_type": "code",
   "execution_count": 5,
   "id": "86556f33",
   "metadata": {},
   "outputs": [
    {
     "data": {
      "text/html": [
       "<div>\n",
       "<style scoped>\n",
       "    .dataframe tbody tr th:only-of-type {\n",
       "        vertical-align: middle;\n",
       "    }\n",
       "\n",
       "    .dataframe tbody tr th {\n",
       "        vertical-align: top;\n",
       "    }\n",
       "\n",
       "    .dataframe thead th {\n",
       "        text-align: right;\n",
       "    }\n",
       "</style>\n",
       "<table border=\"1\" class=\"dataframe\">\n",
       "  <thead>\n",
       "    <tr style=\"text-align: right;\">\n",
       "      <th></th>\n",
       "      <th>name</th>\n",
       "      <th>dateStart</th>\n",
       "      <th>dateEnd</th>\n",
       "      <th>type</th>\n",
       "      <th>season</th>\n",
       "      <th>orgcommittee</th>\n",
       "      <th>synchData</th>\n",
       "      <th>questionQty</th>\n",
       "      <th>year</th>\n",
       "    </tr>\n",
       "    <tr>\n",
       "      <th>id</th>\n",
       "      <th></th>\n",
       "      <th></th>\n",
       "      <th></th>\n",
       "      <th></th>\n",
       "      <th></th>\n",
       "      <th></th>\n",
       "      <th></th>\n",
       "      <th></th>\n",
       "      <th></th>\n",
       "    </tr>\n",
       "  </thead>\n",
       "  <tbody>\n",
       "    <tr>\n",
       "      <th>4772</th>\n",
       "      <td>Синхрон северных стран. Зимний выпуск</td>\n",
       "      <td>2019-01-05T19:00:00+03:00</td>\n",
       "      <td>2019-01-09T19:00:00+03:00</td>\n",
       "      <td>{'id': 3, 'name': 'Синхрон'}</td>\n",
       "      <td>/seasons/52</td>\n",
       "      <td>[{'id': 28379, 'name': 'Константин', 'patronym...</td>\n",
       "      <td>{'dateRequestsAllowedTo': '2019-01-09T23:59:59...</td>\n",
       "      <td>{'1': 12, '2': 12, '3': 12}</td>\n",
       "      <td>2019</td>\n",
       "    </tr>\n",
       "    <tr>\n",
       "      <th>4973</th>\n",
       "      <td>Балтийский Берег. 3 игра</td>\n",
       "      <td>2019-01-25T19:05:00+03:00</td>\n",
       "      <td>2019-01-29T19:00:00+03:00</td>\n",
       "      <td>{'id': 3, 'name': 'Синхрон'}</td>\n",
       "      <td>/seasons/52</td>\n",
       "      <td>[{'id': 23030, 'name': 'Марина', 'patronymic':...</td>\n",
       "      <td>{'dateRequestsAllowedTo': '2019-01-28T23:59:59...</td>\n",
       "      <td>{'1': 12, '2': 12, '3': 12}</td>\n",
       "      <td>2019</td>\n",
       "    </tr>\n",
       "    <tr>\n",
       "      <th>4974</th>\n",
       "      <td>Балтийский Берег. 4 игра</td>\n",
       "      <td>2019-03-01T19:05:00+03:00</td>\n",
       "      <td>2019-03-05T19:00:00+03:00</td>\n",
       "      <td>{'id': 3, 'name': 'Синхрон'}</td>\n",
       "      <td>/seasons/52</td>\n",
       "      <td>[{'id': 23030, 'name': 'Марина', 'patronymic':...</td>\n",
       "      <td>{'dateRequestsAllowedTo': '2019-03-04T23:59:59...</td>\n",
       "      <td>{'1': 12, '2': 12, '3': 12}</td>\n",
       "      <td>2019</td>\n",
       "    </tr>\n",
       "    <tr>\n",
       "      <th>4975</th>\n",
       "      <td>Балтийский Берег. 5 игра</td>\n",
       "      <td>2019-04-05T19:05:00+03:00</td>\n",
       "      <td>2019-04-09T19:00:00+03:00</td>\n",
       "      <td>{'id': 3, 'name': 'Синхрон'}</td>\n",
       "      <td>/seasons/52</td>\n",
       "      <td>[{'id': 23030, 'name': 'Марина', 'patronymic':...</td>\n",
       "      <td>{'dateRequestsAllowedTo': '2019-04-08T23:59:59...</td>\n",
       "      <td>{'1': 12, '2': 12, '3': 12}</td>\n",
       "      <td>2019</td>\n",
       "    </tr>\n",
       "    <tr>\n",
       "      <th>4986</th>\n",
       "      <td>ОВСЧ. 6 этап</td>\n",
       "      <td>2019-02-15T20:00:00+03:00</td>\n",
       "      <td>2019-02-19T20:00:00+03:00</td>\n",
       "      <td>{'id': 3, 'name': 'Синхрон'}</td>\n",
       "      <td>/seasons/52</td>\n",
       "      <td>[{'id': 59140, 'name': 'Борис', 'patronymic': ...</td>\n",
       "      <td>{'dateRequestsAllowedTo': '2019-02-19T23:59:59...</td>\n",
       "      <td>{'1': 12, '2': 12, '3': 12}</td>\n",
       "      <td>2019</td>\n",
       "    </tr>\n",
       "  </tbody>\n",
       "</table>\n",
       "</div>"
      ],
      "text/plain": [
       "                                       name                  dateStart  \\\n",
       "id                                                                       \n",
       "4772  Синхрон северных стран. Зимний выпуск  2019-01-05T19:00:00+03:00   \n",
       "4973               Балтийский Берег. 3 игра  2019-01-25T19:05:00+03:00   \n",
       "4974               Балтийский Берег. 4 игра  2019-03-01T19:05:00+03:00   \n",
       "4975               Балтийский Берег. 5 игра  2019-04-05T19:05:00+03:00   \n",
       "4986                           ОВСЧ. 6 этап  2019-02-15T20:00:00+03:00   \n",
       "\n",
       "                        dateEnd                          type       season  \\\n",
       "id                                                                           \n",
       "4772  2019-01-09T19:00:00+03:00  {'id': 3, 'name': 'Синхрон'}  /seasons/52   \n",
       "4973  2019-01-29T19:00:00+03:00  {'id': 3, 'name': 'Синхрон'}  /seasons/52   \n",
       "4974  2019-03-05T19:00:00+03:00  {'id': 3, 'name': 'Синхрон'}  /seasons/52   \n",
       "4975  2019-04-09T19:00:00+03:00  {'id': 3, 'name': 'Синхрон'}  /seasons/52   \n",
       "4986  2019-02-19T20:00:00+03:00  {'id': 3, 'name': 'Синхрон'}  /seasons/52   \n",
       "\n",
       "                                           orgcommittee  \\\n",
       "id                                                        \n",
       "4772  [{'id': 28379, 'name': 'Константин', 'patronym...   \n",
       "4973  [{'id': 23030, 'name': 'Марина', 'patronymic':...   \n",
       "4974  [{'id': 23030, 'name': 'Марина', 'patronymic':...   \n",
       "4975  [{'id': 23030, 'name': 'Марина', 'patronymic':...   \n",
       "4986  [{'id': 59140, 'name': 'Борис', 'patronymic': ...   \n",
       "\n",
       "                                              synchData  \\\n",
       "id                                                        \n",
       "4772  {'dateRequestsAllowedTo': '2019-01-09T23:59:59...   \n",
       "4973  {'dateRequestsAllowedTo': '2019-01-28T23:59:59...   \n",
       "4974  {'dateRequestsAllowedTo': '2019-03-04T23:59:59...   \n",
       "4975  {'dateRequestsAllowedTo': '2019-04-08T23:59:59...   \n",
       "4986  {'dateRequestsAllowedTo': '2019-02-19T23:59:59...   \n",
       "\n",
       "                      questionQty  year  \n",
       "id                                       \n",
       "4772  {'1': 12, '2': 12, '3': 12}  2019  \n",
       "4973  {'1': 12, '2': 12, '3': 12}  2019  \n",
       "4974  {'1': 12, '2': 12, '3': 12}  2019  \n",
       "4975  {'1': 12, '2': 12, '3': 12}  2019  \n",
       "4986  {'1': 12, '2': 12, '3': 12}  2019  "
      ]
     },
     "execution_count": 5,
     "metadata": {},
     "output_type": "execute_result"
    }
   ],
   "source": [
    "train_tournaments.head()"
   ]
  },
  {
   "cell_type": "code",
   "execution_count": 6,
   "id": "f6b0c445",
   "metadata": {},
   "outputs": [
    {
     "data": {
      "text/plain": [
       "((687, 9), (418, 9))"
      ]
     },
     "execution_count": 6,
     "metadata": {},
     "output_type": "execute_result"
    }
   ],
   "source": [
    "train_tournaments.shape, test_tournaments.shape"
   ]
  },
  {
   "cell_type": "code",
   "execution_count": 84,
   "id": "76f184b3",
   "metadata": {},
   "outputs": [],
   "source": [
    "def create_dataset(indxs):\n",
    "    # index processing\n",
    "    indx_list = []\n",
    "    for ind in indxs:\n",
    "        try:\n",
    "            if results[ind][0]['team'] and results[ind][0]['mask']:\n",
    "                indx_list.append(ind)\n",
    "        except:\n",
    "            continue\n",
    "    # create dataset\n",
    "    result = []\n",
    "    for ind in indx_list:\n",
    "        for team in results[ind]:\n",
    "            if team.get('mask') is not None:\n",
    "                mask = str(team['mask']).replace('0','X').replace('0', '?')\n",
    "                team_id = team['team']['id']\n",
    "                players = team['teamMembers']\n",
    "                position = team['position']\n",
    "                for player in players:  \n",
    "                    player_id = player['player']['id']\n",
    "                    for q_mum, answer in enumerate(mask): \n",
    "                        result.append([ind, team_id, player_id, q_mum, answer, position])\n",
    "    df = pd.DataFrame(result, columns=['tournament_id', 'team_id', 'player_id', 'question', 'answer', 'position'])\n",
    "    return df"
   ]
  },
  {
   "cell_type": "code",
   "execution_count": 85,
   "id": "a0497af2",
   "metadata": {},
   "outputs": [
    {
     "name": "stdout",
     "output_type": "stream",
     "text": [
      "Wall time: 54.1 s\n"
     ]
    }
   ],
   "source": [
    "%%time\n",
    "train_df = create_dataset(train_tournaments.index)\n",
    "test_df = create_dataset(test_tournaments.index)"
   ]
  },
  {
   "cell_type": "markdown",
   "id": "e5e5714e",
   "metadata": {},
   "source": [
    "#### 2\n",
    "Постройте baseline-модель на основе линейной или логистической регрессии, которая будет обучать рейтинг-лист игроков."
   ]
  },
  {
   "cell_type": "code",
   "execution_count": 109,
   "id": "2d01647a",
   "metadata": {},
   "outputs": [
    {
     "name": "stdout",
     "output_type": "stream",
     "text": [
      "Wall time: 10min 1s\n"
     ]
    },
    {
     "data": {
      "text/html": [
       "<style>#sk-container-id-3 {color: black;background-color: white;}#sk-container-id-3 pre{padding: 0;}#sk-container-id-3 div.sk-toggleable {background-color: white;}#sk-container-id-3 label.sk-toggleable__label {cursor: pointer;display: block;width: 100%;margin-bottom: 0;padding: 0.3em;box-sizing: border-box;text-align: center;}#sk-container-id-3 label.sk-toggleable__label-arrow:before {content: \"▸\";float: left;margin-right: 0.25em;color: #696969;}#sk-container-id-3 label.sk-toggleable__label-arrow:hover:before {color: black;}#sk-container-id-3 div.sk-estimator:hover label.sk-toggleable__label-arrow:before {color: black;}#sk-container-id-3 div.sk-toggleable__content {max-height: 0;max-width: 0;overflow: hidden;text-align: left;background-color: #f0f8ff;}#sk-container-id-3 div.sk-toggleable__content pre {margin: 0.2em;color: black;border-radius: 0.25em;background-color: #f0f8ff;}#sk-container-id-3 input.sk-toggleable__control:checked~div.sk-toggleable__content {max-height: 200px;max-width: 100%;overflow: auto;}#sk-container-id-3 input.sk-toggleable__control:checked~label.sk-toggleable__label-arrow:before {content: \"▾\";}#sk-container-id-3 div.sk-estimator input.sk-toggleable__control:checked~label.sk-toggleable__label {background-color: #d4ebff;}#sk-container-id-3 div.sk-label input.sk-toggleable__control:checked~label.sk-toggleable__label {background-color: #d4ebff;}#sk-container-id-3 input.sk-hidden--visually {border: 0;clip: rect(1px 1px 1px 1px);clip: rect(1px, 1px, 1px, 1px);height: 1px;margin: -1px;overflow: hidden;padding: 0;position: absolute;width: 1px;}#sk-container-id-3 div.sk-estimator {font-family: monospace;background-color: #f0f8ff;border: 1px dotted black;border-radius: 0.25em;box-sizing: border-box;margin-bottom: 0.5em;}#sk-container-id-3 div.sk-estimator:hover {background-color: #d4ebff;}#sk-container-id-3 div.sk-parallel-item::after {content: \"\";width: 100%;border-bottom: 1px solid gray;flex-grow: 1;}#sk-container-id-3 div.sk-label:hover label.sk-toggleable__label {background-color: #d4ebff;}#sk-container-id-3 div.sk-serial::before {content: \"\";position: absolute;border-left: 1px solid gray;box-sizing: border-box;top: 0;bottom: 0;left: 50%;z-index: 0;}#sk-container-id-3 div.sk-serial {display: flex;flex-direction: column;align-items: center;background-color: white;padding-right: 0.2em;padding-left: 0.2em;position: relative;}#sk-container-id-3 div.sk-item {position: relative;z-index: 1;}#sk-container-id-3 div.sk-parallel {display: flex;align-items: stretch;justify-content: center;background-color: white;position: relative;}#sk-container-id-3 div.sk-item::before, #sk-container-id-3 div.sk-parallel-item::before {content: \"\";position: absolute;border-left: 1px solid gray;box-sizing: border-box;top: 0;bottom: 0;left: 50%;z-index: -1;}#sk-container-id-3 div.sk-parallel-item {display: flex;flex-direction: column;z-index: 1;position: relative;background-color: white;}#sk-container-id-3 div.sk-parallel-item:first-child::after {align-self: flex-end;width: 50%;}#sk-container-id-3 div.sk-parallel-item:last-child::after {align-self: flex-start;width: 50%;}#sk-container-id-3 div.sk-parallel-item:only-child::after {width: 0;}#sk-container-id-3 div.sk-dashed-wrapped {border: 1px dashed gray;margin: 0 0.4em 0.5em 0.4em;box-sizing: border-box;padding-bottom: 0.4em;background-color: white;}#sk-container-id-3 div.sk-label label {font-family: monospace;font-weight: bold;display: inline-block;line-height: 1.2em;}#sk-container-id-3 div.sk-label-container {text-align: center;}#sk-container-id-3 div.sk-container {/* jupyter's `normalize.less` sets `[hidden] { display: none; }` but bootstrap.min.css set `[hidden] { display: none !important; }` so we also need the `!important` here to be able to override the default hidden behavior on the sphinx rendered scikit-learn.org. See: https://github.com/scikit-learn/scikit-learn/issues/21755 */display: inline-block !important;position: relative;}#sk-container-id-3 div.sk-text-repr-fallback {display: none;}</style><div id=\"sk-container-id-3\" class=\"sk-top-container\"><div class=\"sk-text-repr-fallback\"><pre>LogisticRegression(random_state=42, solver=&#x27;liblinear&#x27;)</pre><b>In a Jupyter environment, please rerun this cell to show the HTML representation or trust the notebook. <br />On GitHub, the HTML representation is unable to render, please try loading this page with nbviewer.org.</b></div><div class=\"sk-container\" hidden><div class=\"sk-item\"><div class=\"sk-estimator sk-toggleable\"><input class=\"sk-toggleable__control sk-hidden--visually\" id=\"sk-estimator-id-3\" type=\"checkbox\" checked><label for=\"sk-estimator-id-3\" class=\"sk-toggleable__label sk-toggleable__label-arrow\">LogisticRegression</label><div class=\"sk-toggleable__content\"><pre>LogisticRegression(random_state=42, solver=&#x27;liblinear&#x27;)</pre></div></div></div></div></div>"
      ],
      "text/plain": [
       "LogisticRegression(random_state=42, solver='liblinear')"
      ]
     },
     "execution_count": 109,
     "metadata": {},
     "output_type": "execute_result"
    }
   ],
   "source": [
    "%%time\n",
    "encoder = OneHotEncoder(handle_unknown='ignore')\n",
    "cat_features = ['question', 'player_id']\n",
    "X = encoder.fit_transform(train_df[cat_features])\n",
    "y = train_df['answer']\n",
    "base_model = LogisticRegression(solver='liblinear', random_state=42)\n",
    "base_model.fit(X, y)"
   ]
  },
  {
   "cell_type": "code",
   "execution_count": 119,
   "id": "a957a57b",
   "metadata": {},
   "outputs": [
    {
     "data": {
      "text/html": [
       "<div>\n",
       "<style scoped>\n",
       "    .dataframe tbody tr th:only-of-type {\n",
       "        vertical-align: middle;\n",
       "    }\n",
       "\n",
       "    .dataframe tbody tr th {\n",
       "        vertical-align: top;\n",
       "    }\n",
       "\n",
       "    .dataframe thead th {\n",
       "        text-align: right;\n",
       "    }\n",
       "</style>\n",
       "<table border=\"1\" class=\"dataframe\">\n",
       "  <thead>\n",
       "    <tr style=\"text-align: right;\">\n",
       "      <th></th>\n",
       "      <th>player_id</th>\n",
       "      <th>player_name</th>\n",
       "      <th>rating</th>\n",
       "    </tr>\n",
       "  </thead>\n",
       "  <tbody>\n",
       "    <tr>\n",
       "      <th>0</th>\n",
       "      <td>2796</td>\n",
       "      <td>Безбородкин Александр</td>\n",
       "      <td>2.900505</td>\n",
       "    </tr>\n",
       "    <tr>\n",
       "      <th>1</th>\n",
       "      <td>2594</td>\n",
       "      <td>Басецкий Олег</td>\n",
       "      <td>2.900505</td>\n",
       "    </tr>\n",
       "    <tr>\n",
       "      <th>2</th>\n",
       "      <td>2659</td>\n",
       "      <td>Крюкова Екатерина</td>\n",
       "      <td>2.900505</td>\n",
       "    </tr>\n",
       "    <tr>\n",
       "      <th>3</th>\n",
       "      <td>41135</td>\n",
       "      <td>Лозинский Богдан</td>\n",
       "      <td>2.896408</td>\n",
       "    </tr>\n",
       "    <tr>\n",
       "      <th>4</th>\n",
       "      <td>2475</td>\n",
       "      <td>Барчук Михаил</td>\n",
       "      <td>2.685836</td>\n",
       "    </tr>\n",
       "  </tbody>\n",
       "</table>\n",
       "</div>"
      ],
      "text/plain": [
       "   player_id            player_name    rating\n",
       "0       2796  Безбородкин Александр  2.900505\n",
       "1       2594          Басецкий Олег  2.900505\n",
       "2       2659      Крюкова Екатерина  2.900505\n",
       "3      41135       Лозинский Богдан  2.896408\n",
       "4       2475          Барчук Михаил  2.685836"
      ]
     },
     "execution_count": 119,
     "metadata": {},
     "output_type": "execute_result"
    }
   ],
   "source": [
    "preds = base_model.coef_[0]\n",
    "players_ids = np.unique(train_df['player_id'])\n",
    "players_names = {players[pl]['id']: players[pl]['surname'] + ' ' + players[pl]['name'] for pl in players_ids}\n",
    "rating = pd.DataFrame({'player_id': players_ids, 'player_name': players_names.values()})\n",
    "rating['rating'] = preds[:len(players_ids)]\n",
    "rating.sort_values(by='rating', ascending=False).reset_index(drop=True).head()"
   ]
  }
 ],
 "metadata": {
  "kernelspec": {
   "display_name": "Python 3 (ipykernel)",
   "language": "python",
   "name": "python3"
  },
  "language_info": {
   "codemirror_mode": {
    "name": "ipython",
    "version": 3
   },
   "file_extension": ".py",
   "mimetype": "text/x-python",
   "name": "python",
   "nbconvert_exporter": "python",
   "pygments_lexer": "ipython3",
   "version": "3.9.7"
  }
 },
 "nbformat": 4,
 "nbformat_minor": 5
}
